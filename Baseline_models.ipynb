{
 "cells": [
  {
   "cell_type": "markdown",
   "metadata": {
    "id": "qBt-PZBsoBN1"
   },
   "source": [
    "Use these filenames to change the dataset for data\n",
    "    # [this is smallest] articles-training-byarticle-20181122.xml - 3mb\n",
    "    # articles-validation-bypublisher-20181122.xml - 894mb\n",
    "    # articles-training-bypublisher-20181122.xml - 3gb\n",
    "Use these filenames to change the dataset for truth\n",
    "    # [this is smallest] ground-truth-training-byarticle-20181122.xml - 109kb\n",
    "    # ground-truth-validation-bypublisher-20181122.xml - 24mb\n",
    "    # ground-truth-training-bypublisher-20181122.xml - 100mb"
   ]
  },
  {
   "cell_type": "code",
   "execution_count": 1,
   "metadata": {
    "colab": {
     "base_uri": "https://localhost:8080/"
    },
    "id": "t2sg0DkUHupC",
    "outputId": "fbdcbb2f-0d2b-4caa-b38e-356cac195ff8"
   },
   "outputs": [
    {
     "name": "stdout",
     "output_type": "stream",
     "text": [
      "Mounted at /content/drive\n"
     ]
    }
   ],
   "source": [
    "from google.colab import drive\n",
    "drive.mount('/content/drive')"
   ]
  },
  {
   "cell_type": "code",
   "execution_count": 2,
   "metadata": {
    "id": "10dm0K7_nvk1"
   },
   "outputs": [],
   "source": [
    "folder = '/content/drive/My Drive/ire-major-project/' # use in python code"
   ]
  },
  {
   "cell_type": "code",
   "execution_count": 3,
   "metadata": {
    "colab": {
     "base_uri": "https://localhost:8080/"
    },
    "id": "ti9PcWjUn3Cn",
    "outputId": "628a4c6e-6c51-4deb-b228-4fa9b3d3e6e3"
   },
   "outputs": [
    {
     "name": "stderr",
     "output_type": "stream",
     "text": [
      "/usr/local/lib/python3.6/dist-packages/sklearn/utils/deprecation.py:144: FutureWarning: The sklearn.feature_extraction.stop_words module is  deprecated in version 0.22 and will be removed in version 0.24. The corresponding classes / functions should instead be imported from sklearn.feature_extraction.text. Anything that cannot be imported from sklearn.feature_extraction.text is now part of the private API.\n",
      "  warnings.warn(message, FutureWarning)\n"
     ]
    }
   ],
   "source": [
    "import pandas as pd\n",
    "from sklearn.metrics import f1_score, accuracy_score, precision_score, recall_score, confusion_matrix\n",
    "from sklearn.model_selection import train_test_split\n",
    "from sklearn.feature_extraction.text import TfidfVectorizer\n",
    "from sklearn.feature_extraction.stop_words import ENGLISH_STOP_WORDS\n",
    "import seaborn as sns\n",
    "import matplotlib.pyplot as plt\n",
    "%matplotlib inline"
   ]
  },
  {
   "cell_type": "code",
   "execution_count": 4,
   "metadata": {
    "id": "7M3XIMfJ6-Vp"
   },
   "outputs": [],
   "source": [
    "def show_perf_metrics(y_actual, y_pred):\n",
    "    print(\"f1 score: \", f1_score(y_actual, y_pred, average=None) *100)\n",
    "    print('accuracy: ', accuracy_score(y_actual, y_pred) *100)\n",
    "    print('precision: ', precision_score(y_actual, y_pred, average=None) *100)\n",
    "    print('recall: ', recall_score(y_actual, y_pred, average=None) *100)\n",
    "    ax= plt.subplot()\n",
    "    cm = confusion_matrix(y_true=y_actual, y_pred=y_pred)\n",
    "    sns.heatmap(cm, annot=True, ax=ax)\n",
    "    ax.set_xlabel('Predicted')\n",
    "    ax.set_ylabel('True')"
   ]
  },
  {
   "cell_type": "markdown",
   "metadata": {
    "id": "Qu7l1byzYX5g"
   },
   "source": [
    "# Load the Training and Testing data"
   ]
  },
  {
   "cell_type": "code",
   "execution_count": 5,
   "metadata": {
    "colab": {
     "base_uri": "https://localhost:8080/"
    },
    "id": "XUALLbmKYWFn",
    "outputId": "81ced053-7d72-4f3e-c5a0-a6b26b78a53f"
   },
   "outputs": [
    {
     "name": "stdout",
     "output_type": "stream",
     "text": [
      "<class 'pandas.core.frame.DataFrame'>\n",
      "RangeIndex: 600000 entries, 0 to 599999\n",
      "Data columns (total 5 columns):\n",
      " #   Column        Non-Null Count   Dtype \n",
      "---  ------        --------------   ----- \n",
      " 0   Unnamed: 0    600000 non-null  int64 \n",
      " 1   id            600000 non-null  int64 \n",
      " 2   date          496166 non-null  object\n",
      " 3   title         598220 non-null  object\n",
      " 4   article_text  600000 non-null  object\n",
      "dtypes: int64(2), object(3)\n",
      "memory usage: 1.6 GB\n",
      "<class 'pandas.core.frame.DataFrame'>\n",
      "RangeIndex: 600000 entries, 0 to 599999\n",
      "Data columns (total 4 columns):\n",
      " #   Column         Non-Null Count   Dtype \n",
      "---  ------         --------------   ----- \n",
      " 0   Unnamed: 0     600000 non-null  int64 \n",
      " 1   id             600000 non-null  int64 \n",
      " 2   hyperpartisan  600000 non-null  bool  \n",
      " 3   bias           600000 non-null  object\n",
      "dtypes: bool(1), int64(2), object(1)\n",
      "memory usage: 45.7 MB\n"
     ]
    }
   ],
   "source": [
    "df_data = pd.read_csv(folder+'data_training_bypublisher.csv')\n",
    "df_truth = pd.read_csv(folder+'ground_truth_training_bypublisher.csv')\n",
    "df_data.info(memory_usage='deep')\n",
    "df_truth.info(memory_usage='deep')"
   ]
  },
  {
   "cell_type": "code",
   "execution_count": 6,
   "metadata": {
    "colab": {
     "base_uri": "https://localhost:8080/"
    },
    "id": "WssEVQmtfntJ",
    "outputId": "a615107e-32f4-4fff-cad6-1e0dd35cacef"
   },
   "outputs": [
    {
     "name": "stdout",
     "output_type": "stream",
     "text": [
      "300000 300000\n"
     ]
    }
   ],
   "source": [
    "print(len(df_truth[df_truth.hyperpartisan==True]), len(df_truth[df_truth.hyperpartisan==False]))"
   ]
  },
  {
   "cell_type": "code",
   "execution_count": 7,
   "metadata": {
    "colab": {
     "base_uri": "https://localhost:8080/"
    },
    "id": "DXgvzCzb0H_S",
    "outputId": "4ae38480-6174-4f2d-c55c-58858aec6e01"
   },
   "outputs": [
    {
     "name": "stdout",
     "output_type": "stream",
     "text": [
      "<class 'pandas.core.frame.DataFrame'>\n",
      "RangeIndex: 150000 entries, 0 to 149999\n",
      "Data columns (total 5 columns):\n",
      " #   Column        Non-Null Count   Dtype \n",
      "---  ------        --------------   ----- \n",
      " 0   Unnamed: 0    150000 non-null  int64 \n",
      " 1   id            150000 non-null  int64 \n",
      " 2   date          100492 non-null  object\n",
      " 3   title         137621 non-null  object\n",
      " 4   article_text  150000 non-null  object\n",
      "dtypes: int64(2), object(3)\n",
      "memory usage: 538.4 MB\n",
      "<class 'pandas.core.frame.DataFrame'>\n",
      "RangeIndex: 150000 entries, 0 to 149999\n",
      "Data columns (total 4 columns):\n",
      " #   Column         Non-Null Count   Dtype \n",
      "---  ------         --------------   ----- \n",
      " 0   Unnamed: 0     150000 non-null  int64 \n",
      " 1   id             150000 non-null  int64 \n",
      " 2   hyperpartisan  150000 non-null  bool  \n",
      " 3   bias           150000 non-null  object\n",
      "dtypes: bool(1), int64(2), object(1)\n",
      "memory usage: 11.5 MB\n"
     ]
    }
   ],
   "source": [
    "df_data_test = pd.read_csv(folder+'data_validation_bypublisher.csv')\n",
    "df_truth_test = pd.read_csv(folder+'ground_truth_validation_bypublisher.csv')\n",
    "df_data_test.info(memory_usage='deep')\n",
    "df_truth_test.info(memory_usage='deep')"
   ]
  },
  {
   "cell_type": "code",
   "execution_count": 8,
   "metadata": {
    "colab": {
     "base_uri": "https://localhost:8080/"
    },
    "id": "Fp9P5K0U0L2z",
    "outputId": "5bc6ca3e-74c1-4fa5-ad5e-1e669dcc5664"
   },
   "outputs": [
    {
     "name": "stdout",
     "output_type": "stream",
     "text": [
      "75000 75000\n"
     ]
    }
   ],
   "source": [
    "print(len(df_truth_test[df_truth_test.hyperpartisan==True]), len(df_truth_test[df_truth_test.hyperpartisan==False]))"
   ]
  },
  {
   "cell_type": "markdown",
   "metadata": {
    "id": "9dvnmJCl0iIp"
   },
   "source": [
    "# Preprocessing"
   ]
  },
  {
   "cell_type": "code",
   "execution_count": 9,
   "metadata": {
    "colab": {
     "base_uri": "https://localhost:8080/"
    },
    "id": "sSDMJeyr0hi7",
    "outputId": "41e9f878-3892-4eee-a319-5582e9c36627"
   },
   "outputs": [
    {
     "data": {
      "text/plain": [
       "TfidfVectorizer(analyzer='word', binary=False, decode_error='strict',\n",
       "                dtype=<class 'numpy.float64'>, encoding='utf-8',\n",
       "                input='content', lowercase=True, max_df=1.0, max_features=None,\n",
       "                min_df=1, ngram_range=(1, 1), norm='l2', preprocessor=None,\n",
       "                smooth_idf=True, stop_words=None, strip_accents=None,\n",
       "                sublinear_tf=False, token_pattern='(?u)\\\\b\\\\w\\\\w+\\\\b',\n",
       "                tokenizer=None, use_idf=True, vocabulary=None)"
      ]
     },
     "execution_count": 9,
     "metadata": {
      "tags": []
     },
     "output_type": "execute_result"
    }
   ],
   "source": [
    "X = df_data.article_text.values\n",
    "y = df_truth.hyperpartisan.values\n",
    "y2 = df_truth.bias.values\n",
    "\n",
    "tfidfVectorizer = TfidfVectorizer()\n",
    "tfidfVectorizer.fit(X)"
   ]
  },
  {
   "cell_type": "markdown",
   "metadata": {
    "id": "ZyUb01fb039b"
   },
   "source": [
    "Preparing training and validation set"
   ]
  },
  {
   "cell_type": "code",
   "execution_count": 10,
   "metadata": {
    "id": "mjZMU_qe0teT"
   },
   "outputs": [],
   "source": [
    "X_tfidf = tfidfVectorizer.transform(X)\n",
    "X_tfidf_train, X_tfidf_validate, y_train, y_validate = train_test_split(X_tfidf, y, test_size = 0.2, random_state=1234)"
   ]
  },
  {
   "cell_type": "code",
   "execution_count": 11,
   "metadata": {
    "id": "u6Vg8xLhv30k"
   },
   "outputs": [],
   "source": [
    "X_tfidf_train2, X_tfidf_validate2, y_train2, y_validate2 = train_test_split(X_tfidf, y2, test_size = 0.2, random_state=1234)"
   ]
  },
  {
   "cell_type": "markdown",
   "metadata": {
    "id": "WKLaVcus086w"
   },
   "source": [
    "Preparing test set"
   ]
  },
  {
   "cell_type": "code",
   "execution_count": 12,
   "metadata": {
    "id": "rsOgOD6n01mQ"
   },
   "outputs": [],
   "source": [
    "X_test = df_data_test.article_text.values\n",
    "y_test = df_truth_test.hyperpartisan.values\n",
    "y_test2 = df_truth_test.bias.values\n",
    "X_test_tfidf = tfidfVectorizer.transform(X_test)"
   ]
  },
  {
   "cell_type": "markdown",
   "metadata": {
    "id": "UH7JXlcDBQed"
   },
   "source": [
    "# Multinomial Naive Bayes"
   ]
  },
  {
   "cell_type": "markdown",
   "metadata": {
    "id": "F9F3i43wwLha"
   },
   "source": [
    "## For Hyperpartisan"
   ]
  },
  {
   "cell_type": "markdown",
   "metadata": {
    "id": "LjQbeZiYBXOJ"
   },
   "source": [
    "### Training the model"
   ]
  },
  {
   "cell_type": "code",
   "execution_count": null,
   "metadata": {
    "colab": {
     "base_uri": "https://localhost:8080/"
    },
    "id": "Zx-lJ4wbBXOK",
    "outputId": "a6ea6f01-a5e4-49aa-ea2a-8afbaacbdbb1"
   },
   "outputs": [
    {
     "data": {
      "text/plain": [
       "MultinomialNB(alpha=1.0, class_prior=None, fit_prior=True)"
      ]
     },
     "execution_count": 32,
     "metadata": {
      "tags": []
     },
     "output_type": "execute_result"
    }
   ],
   "source": [
    "from sklearn.naive_bayes import MultinomialNB\n",
    "\n",
    "nbmodel = MultinomialNB()\n",
    "nbmodel.fit(X_tfidf_train, y_train)"
   ]
  },
  {
   "cell_type": "markdown",
   "metadata": {
    "id": "l7rmyetnBXOK"
   },
   "source": [
    "Performance on Train and validation set"
   ]
  },
  {
   "cell_type": "code",
   "execution_count": null,
   "metadata": {
    "colab": {
     "base_uri": "https://localhost:8080/",
     "height": 347
    },
    "id": "leRmoNRFBXOK",
    "outputId": "5bb8f7af-a526-4f39-d8c6-79a623633b9b"
   },
   "outputs": [
    {
     "name": "stdout",
     "output_type": "stream",
     "text": [
      "f1 score:  [81.40729875 83.5987923 ]\n",
      "accuracy:  82.57166666666666\n",
      "precision:  [87.21255268 78.96224144]\n",
      "recall:  [76.32665819 88.8138135 ]\n"
     ]
    },
    {
     "data": {
      "image/png": "[encoded data removed]",
      "text/plain": [
       "<Figure size 432x288 with 2 Axes>"
      ]
     },
     "metadata": {
      "needs_background": "light",
      "tags": []
     },
     "output_type": "display_data"
    }
   ],
   "source": [
    "y_pred = nbmodel.predict(X_tfidf_train)\n",
    "show_perf_metrics(y_train, y_pred)"
   ]
  },
  {
   "cell_type": "code",
   "execution_count": null,
   "metadata": {
    "colab": {
     "base_uri": "https://localhost:8080/",
     "height": 347
    },
    "id": "mRstZNz1BXOL",
    "outputId": "a1db8bc2-274f-425f-ae8b-946f27229234"
   },
   "outputs": [
    {
     "name": "stdout",
     "output_type": "stream",
     "text": [
      "f1 score:  [80.32480254 82.55014034]\n",
      "accuracy:  81.50416666666666\n",
      "precision:  [85.88489536 78.06774923]\n",
      "recall:  [75.44084589 87.57861373]\n"
     ]
    },
    {
     "data": {
      "image/png": "[encoded data removed]",
      "text/plain": [
       "<Figure size 432x288 with 2 Axes>"
      ]
     },
     "metadata": {
      "needs_background": "light",
      "tags": []
     },
     "output_type": "display_data"
    }
   ],
   "source": [
    "y_pred = nbmodel.predict(X_tfidf_validate)\n",
    "show_perf_metrics(y_validate, y_pred)"
   ]
  },
  {
   "cell_type": "markdown",
   "metadata": {
    "id": "22o8_PiUmmvu"
   },
   "source": [
    "### Testing"
   ]
  },
  {
   "cell_type": "code",
   "execution_count": null,
   "metadata": {
    "colab": {
     "base_uri": "https://localhost:8080/",
     "height": 364
    },
    "id": "FCtPAsUXBXOL",
    "outputId": "dd69e154-eea8-4daa-b18e-fb74a49d74b1"
   },
   "outputs": [
    {
     "name": "stdout",
     "output_type": "stream",
     "text": [
      "(150000,) (150000,)\n",
      "f1 score:  [40.18715979 66.70056872]\n",
      "accuracy:  57.218666666666664\n",
      "precision:  [66.76783944 54.59936115]\n",
      "recall:  [28.744      85.69333333]\n"
     ]
    },
    {
     "data": {
      "image/png": "[encoded data removed]",
      "text/plain": [
       "<Figure size 432x288 with 2 Axes>"
      ]
     },
     "metadata": {
      "needs_background": "light",
      "tags": []
     },
     "output_type": "display_data"
    }
   ],
   "source": [
    "y_test_pred = nbmodel.predict(X_test_tfidf)\n",
    "print(y_test_pred.shape, y_test.shape)\n",
    "show_perf_metrics(y_test, y_test_pred)"
   ]
  },
  {
   "cell_type": "markdown",
   "metadata": {
    "id": "jhgmlcSWwXUT"
   },
   "source": [
    "## For Bias"
   ]
  },
  {
   "cell_type": "markdown",
   "metadata": {
    "id": "S-VZtR43wuL7"
   },
   "source": [
    "### Training the Model"
   ]
  },
  {
   "cell_type": "code",
   "execution_count": null,
   "metadata": {
    "colab": {
     "base_uri": "https://localhost:8080/"
    },
    "id": "Ax4UibEuwWm5",
    "outputId": "55d25472-c69e-41c1-e266-3f28543080b2"
   },
   "outputs": [
    {
     "data": {
      "text/plain": [
       "MultinomialNB(alpha=1.0, class_prior=None, fit_prior=True)"
      ]
     },
     "execution_count": 24,
     "metadata": {
      "tags": []
     },
     "output_type": "execute_result"
    }
   ],
   "source": [
    "nbmodel = MultinomialNB()\n",
    "nbmodel.fit(X_tfidf_train2, y_train2)"
   ]
  },
  {
   "cell_type": "markdown",
   "metadata": {
    "id": "d5FL8OFtwyNz"
   },
   "source": [
    "Performance on Train and validation set"
   ]
  },
  {
   "cell_type": "code",
   "execution_count": null,
   "metadata": {
    "colab": {
     "base_uri": "https://localhost:8080/",
     "height": 347
    },
    "id": "wBhVGQMVwyNz",
    "outputId": "073d5f46-22d3-432e-8a96-d3e6e0bac791"
   },
   "outputs": [
    {
     "name": "stdout",
     "output_type": "stream",
     "text": [
      "f1 score:  [72.19293089 67.20311568 11.94893845 67.41661034  6.37479289]\n",
      "accuracy:  63.27854166666667\n",
      "precision:  [65.63956102 54.00095904 99.13936702 76.33254157 99.91197183]\n",
      "recall:  [80.19999598 88.94949075  6.35759939 60.3656704   3.29243176]\n"
     ]
    },
    {
     "data": {
      "image/png": "[encoded data removed]",
      "text/plain": [
       "<Figure size 432x288 with 2 Axes>"
      ]
     },
     "metadata": {
      "needs_background": "light",
      "tags": []
     },
     "output_type": "display_data"
    }
   ],
   "source": [
    "y_pred = nbmodel.predict(X_tfidf_train2)\n",
    "show_perf_metrics(y_train2, y_pred)"
   ]
  },
  {
   "cell_type": "code",
   "execution_count": null,
   "metadata": {
    "colab": {
     "base_uri": "https://localhost:8080/",
     "height": 347
    },
    "id": "41kkjDlBwyN1",
    "outputId": "fe65f17c-e067-46e6-86c7-1bccbac48cd3"
   },
   "outputs": [
    {
     "name": "stdout",
     "output_type": "stream",
     "text": [
      "f1 score:  [71.51987789 65.93926214 10.94100837 66.79828646  6.83839667]\n",
      "accuracy:  62.58166666666667\n",
      "precision:  [65.12127858 52.82059592 98.89298893 76.4039199  99.66329966]\n",
      "recall:  [79.31289836 87.7275021   5.79083838 59.33818663  3.54066986]\n"
     ]
    },
    {
     "data": {
      "image/png": "[encoded data removed]",
      "text/plain": [
       "<Figure size 432x288 with 2 Axes>"
      ]
     },
     "metadata": {
      "needs_background": "light",
      "tags": []
     },
     "output_type": "display_data"
    }
   ],
   "source": [
    "y_pred = nbmodel.predict(X_tfidf_validate2)\n",
    "show_perf_metrics(y_validate2, y_pred)"
   ]
  },
  {
   "cell_type": "markdown",
   "metadata": {
    "id": "PXTCkJcfwyN1"
   },
   "source": [
    "### Testing"
   ]
  },
  {
   "cell_type": "code",
   "execution_count": null,
   "metadata": {
    "colab": {
     "base_uri": "https://localhost:8080/",
     "height": 401
    },
    "id": "_V9Ad2XMwyN1",
    "outputId": "1617c64e-595f-4cbf-b3b5-66433c6cc287"
   },
   "outputs": [
    {
     "name": "stdout",
     "output_type": "stream",
     "text": [
      "f1 score:  [31.77204499 43.05605714  0.         12.967926    0.        ]\n",
      "accuracy:  30.60733333333333\n"
     ]
    },
    {
     "name": "stderr",
     "output_type": "stream",
     "text": [
      "/usr/local/lib/python3.6/dist-packages/sklearn/metrics/_classification.py:1272: UndefinedMetricWarning: Precision is ill-defined and being set to 0.0 in labels with no predicted samples. Use `zero_division` parameter to control this behavior.\n",
      "  _warn_prf(average, modifier, msg_start, len(result))\n"
     ]
    },
    {
     "name": "stdout",
     "output_type": "stream",
     "text": [
      "precision:  [36.72707341 28.73440094  0.         34.21532847  0.        ]\n",
      "recall:  [27.99509087 85.84        0.          8.          0.        ]\n"
     ]
    },
    {
     "data": {
      "image/png": "[encoded data removed]",
      "text/plain": [
       "<Figure size 432x288 with 2 Axes>"
      ]
     },
     "metadata": {
      "needs_background": "light",
      "tags": []
     },
     "output_type": "display_data"
    }
   ],
   "source": [
    "y_test_pred = nbmodel.predict(X_test_tfidf)\n",
    "show_perf_metrics(y_test2, y_test_pred)"
   ]
  },
  {
   "cell_type": "markdown",
   "metadata": {
    "id": "p536vA4b2OCl"
   },
   "source": [
    "# Logistic Regression"
   ]
  },
  {
   "cell_type": "markdown",
   "metadata": {
    "id": "egdaQIOH2Jxl"
   },
   "source": [
    "## For Hyperpartisan"
   ]
  },
  {
   "cell_type": "markdown",
   "metadata": {
    "id": "wMMq9rdngXvo"
   },
   "source": [
    "### Training the model"
   ]
  },
  {
   "cell_type": "code",
   "execution_count": null,
   "metadata": {
    "id": "AfExNka3vsTb"
   },
   "outputs": [],
   "source": [
    "from sklearn.linear_model import LogisticRegression\n",
    "\n",
    "lrmodel = LogisticRegression()\n",
    "\n",
    "lrmodel.fit(X_tfidf_train, y_train)"
   ]
  },
  {
   "cell_type": "markdown",
   "metadata": {
    "id": "r_0G_maK2n1T"
   },
   "source": [
    "Performance on Train and validation set"
   ]
  },
  {
   "cell_type": "code",
   "execution_count": null,
   "metadata": {
    "colab": {
     "base_uri": "https://localhost:8080/",
     "height": 347
    },
    "id": "H6Qxhois8oMD",
    "outputId": "d755eb37-0316-4b80-b96a-3c47dc386303"
   },
   "outputs": [
    {
     "name": "stdout",
     "output_type": "stream",
     "text": [
      "f1 score:  [92.73630173 92.81905748]\n",
      "accuracy:  92.77791666666667\n",
      "precision:  [93.25214387 92.31422155]\n",
      "recall:  [92.22613516 93.32944534]\n"
     ]
    },
    {
     "data": {
      "image/png": "[encoded data removed]",
      "text/plain": [
       "<Figure size 432x288 with 2 Axes>"
      ]
     },
     "metadata": {
      "needs_background": "light",
      "tags": []
     },
     "output_type": "display_data"
    }
   ],
   "source": [
    "y_pred = lrmodel.predict(X_tfidf_train)\n",
    "show_perf_metrics(y_train, y_pred)"
   ]
  },
  {
   "cell_type": "code",
   "execution_count": null,
   "metadata": {
    "colab": {
     "base_uri": "https://localhost:8080/",
     "height": 347
    },
    "id": "IY8l05oV2idi",
    "outputId": "93ef24a1-1922-4f67-a41d-ea51b9a9209b"
   },
   "outputs": [
    {
     "name": "stdout",
     "output_type": "stream",
     "text": [
      "f1 score:  [91.22833396 91.26990065]\n",
      "accuracy:  91.24916666666667\n",
      "precision:  [91.53033859 90.97116341]\n",
      "recall:  [90.92831571 91.57060639]\n"
     ]
    },
    {
     "data": {
      "image/png": "[encoded data removed]",
      "text/plain": [
       "<Figure size 432x288 with 2 Axes>"
      ]
     },
     "metadata": {
      "needs_background": "light",
      "tags": []
     },
     "output_type": "display_data"
    }
   ],
   "source": [
    "y_pred = lrmodel.predict(X_tfidf_validate)\n",
    "show_perf_metrics(y_validate, y_pred)"
   ]
  },
  {
   "cell_type": "markdown",
   "metadata": {
    "id": "Lkx1gNlPxX3-"
   },
   "source": [
    "### Testing"
   ]
  },
  {
   "cell_type": "code",
   "execution_count": null,
   "metadata": {
    "colab": {
     "base_uri": "https://localhost:8080/",
     "height": 364
    },
    "id": "ptycmScYxyVI",
    "outputId": "d6d8a012-ab5a-40ae-a3bb-f2b61b4913e7"
   },
   "outputs": [
    {
     "name": "stdout",
     "output_type": "stream",
     "text": [
      "(150000,) (150000,)\n",
      "f1 score:  [46.36784093 66.34260138]\n",
      "accuracy:  58.64066666666666\n",
      "precision:  [65.9323909  55.92773839]\n",
      "recall:  [35.75733333 81.524     ]\n"
     ]
    },
    {
     "data": {
      "image/png": "[encoded data removed]",
      "text/plain": [
       "<Figure size 432x288 with 2 Axes>"
      ]
     },
     "metadata": {
      "needs_background": "light",
      "tags": []
     },
     "output_type": "display_data"
    }
   ],
   "source": [
    "y_test_pred = lrmodel.predict(X_test_tfidf)\n",
    "print(y_test_pred.shape, y_test.shape)\n",
    "show_perf_metrics(y_test, y_test_pred)"
   ]
  },
  {
   "cell_type": "markdown",
   "metadata": {
    "id": "2o7vXgsV2R09"
   },
   "source": [
    "## For Bias"
   ]
  },
  {
   "cell_type": "markdown",
   "metadata": {
    "id": "MgGN5fNo2UNW"
   },
   "source": [
    "### Training"
   ]
  },
  {
   "cell_type": "code",
   "execution_count": null,
   "metadata": {
    "id": "lIavmMaH2k67"
   },
   "outputs": [],
   "source": [
    "lrmodel = LogisticRegression()\n",
    "\n",
    "lrmodel.fit(X_tfidf_train2, y_train2)"
   ]
  },
  {
   "cell_type": "markdown",
   "metadata": {
    "id": "uyr1Hj3C2qgf"
   },
   "source": [
    "Performance on Train and validation set"
   ]
  },
  {
   "cell_type": "code",
   "execution_count": null,
   "metadata": {
    "colab": {
     "base_uri": "https://localhost:8080/",
     "height": 350
    },
    "id": "VuWqV6Vu2qgg",
    "outputId": "5d7abc84-59be-4474-8440-a907febc01de"
   },
   "outputs": [
    {
     "name": "stdout",
     "output_type": "stream",
     "text": [
      "f1 score:  [93.3239056  85.86250065 80.60365976 89.03919293 79.05118123]\n",
      "accuracy:  87.93833333333333\n",
      "precision:  [92.51526959 82.72805747 82.30567977 90.35793491 88.03446189]\n",
      "recall:  [94.14680214 89.24381625 78.97060656 87.75839038 71.73150001]\n"
     ]
    },
    {
     "data": {
      "image/png": "[encoded data removed]",
      "text/plain": [
       "<Figure size 432x288 with 2 Axes>"
      ]
     },
     "metadata": {
      "needs_background": "light",
      "tags": []
     },
     "output_type": "display_data"
    }
   ],
   "source": [
    "y_pred = lrmodel.predict(X_tfidf_train2)\n",
    "show_perf_metrics(y_train2, y_pred)"
   ]
  },
  {
   "cell_type": "code",
   "execution_count": null,
   "metadata": {
    "colab": {
     "base_uri": "https://localhost:8080/",
     "height": 347
    },
    "id": "Y1hxdwih2qgi",
    "outputId": "93ef24a1-1922-4f67-a41d-ea51b9a9209b"
   },
   "outputs": [
    {
     "name": "stdout",
     "output_type": "stream",
     "text": [
      "f1 score:  [91.22833396 91.26990065]\n",
      "accuracy:  91.24916666666667\n",
      "precision:  [91.53033859 90.97116341]\n",
      "recall:  [90.92831571 91.57060639]\n"
     ]
    },
    {
     "data": {
      "image/png": "[encoded data removed]",
      "text/plain": [
       "<Figure size 432x288 with 2 Axes>"
      ]
     },
     "metadata": {
      "needs_background": "light",
      "tags": []
     },
     "output_type": "display_data"
    }
   ],
   "source": [
    "y_pred = lrmodel.predict(X_tfidf_validate2)\n",
    "show_perf_metrics(y_validate2, y_pred)"
   ]
  },
  {
   "cell_type": "markdown",
   "metadata": {
    "id": "bYcI_yfI2umo"
   },
   "source": [
    "### Testing"
   ]
  },
  {
   "cell_type": "code",
   "execution_count": null,
   "metadata": {
    "colab": {
     "base_uri": "https://localhost:8080/",
     "height": 364
    },
    "id": "P_FNFJ802ump",
    "outputId": "0fa17d0e-5cf6-40d3-ae1d-028fb5812dd0"
   },
   "outputs": [
    {
     "name": "stdout",
     "output_type": "stream",
     "text": [
      "(150000,) (150000,)\n",
      "f1 score:  [25.1270648  39.59197595 19.56929093 46.55947332  8.10246899]\n",
      "accuracy:  34.05866666666667\n",
      "precision:  [38.75762195 28.17739441 26.98876404 57.26409218 17.37509321]\n",
      "recall:  [18.58940882 66.552      15.34955055 39.22666667  5.28304739]\n"
     ]
    },
    {
     "data": {
      "image/png": "[encoded data removed]",
      "text/plain": [
       "<Figure size 432x288 with 2 Axes>"
      ]
     },
     "metadata": {
      "needs_background": "light",
      "tags": []
     },
     "output_type": "display_data"
    }
   ],
   "source": [
    "y_test_pred = lrmodel.predict(X_test_tfidf)\n",
    "print(y_test_pred.shape, y_test2.shape)\n",
    "show_perf_metrics(y_test2, y_test_pred)"
   ]
  },
  {
   "cell_type": "markdown",
   "metadata": {
    "id": "KXYqqZdNnHnd"
   },
   "source": [
    "# Support Vector Classifier"
   ]
  },
  {
   "cell_type": "markdown",
   "metadata": {
    "id": "aM1S-xzZ_BJJ"
   },
   "source": [
    "## For Hyperpartisan"
   ]
  },
  {
   "cell_type": "markdown",
   "metadata": {
    "id": "Qb4jZibnniml"
   },
   "source": [
    "### Training"
   ]
  },
  {
   "cell_type": "code",
   "execution_count": null,
   "metadata": {
    "id": "NXUuhleUniFi"
   },
   "outputs": [],
   "source": [
    "from sklearn.svm import SVC\n",
    "\n",
    "clf = SVC(gamma='auto')\n",
    "clf.fit(X_tfidf_train, y_train)"
   ]
  },
  {
   "cell_type": "markdown",
   "metadata": {
    "id": "NeWib9lqoeQS"
   },
   "source": [
    "Performance on Train and Validation set"
   ]
  },
  {
   "cell_type": "code",
   "execution_count": null,
   "metadata": {
    "id": "ZvdmIexOoZ-N"
   },
   "outputs": [],
   "source": [
    "y_pred = lrmodel.predict(X_tfidf_train)\n",
    "show_perf_metrics(y_train, y_pred)"
   ]
  },
  {
   "cell_type": "code",
   "execution_count": null,
   "metadata": {
    "id": "kcl9tIM1ohxK"
   },
   "outputs": [],
   "source": [
    "y_pred = lrmodel.predict(X_tfidf_validate)\n",
    "show_perf_metrics(y_validate, y_pred)"
   ]
  },
  {
   "cell_type": "markdown",
   "metadata": {
    "id": "Im_4LzFjomrw"
   },
   "source": [
    "### Testing"
   ]
  },
  {
   "cell_type": "code",
   "execution_count": null,
   "metadata": {
    "id": "iaMMM5kbon_u"
   },
   "outputs": [],
   "source": [
    "y_test_pred = lrmodel.predict(X_test_tfidf)\n",
    "print(y_test_pred.shape, y_test.shape)\n",
    "show_perf_metrics(y_test, y_test_pred)"
   ]
  }
 ],
 "metadata": {
  "accelerator": "TPU",
  "colab": {
   "collapsed_sections": [
    "wkcz8kcxoFLQ",
    "U0WBugUGwYVE",
    "Nav66iG5l4bd"
   ],
   "name": "Baseline-models.ipynb",
   "provenance": [],
   "toc_visible": true
  },
  "kernelspec": {
   "display_name": "Python 3",
   "language": "python",
   "name": "python3"
  },
  "language_info": {
   "codemirror_mode": {
    "name": "ipython",
    "version": 3
   },
   "file_extension": ".py",
   "mimetype": "text/x-python",
   "name": "python",
   "nbconvert_exporter": "python",
   "pygments_lexer": "ipython3",
   "version": "3.7.4"
  }
 },
 "nbformat": 4,
 "nbformat_minor": 1
}
