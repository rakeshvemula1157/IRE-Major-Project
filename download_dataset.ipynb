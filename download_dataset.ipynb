{
 "cells": [
  {
   "cell_type": "markdown",
   "metadata": {
    "id": "ppyO2fH6JWX1"
   },
   "source": [
    "## To download the dataset and save it to Google Drive"
   ]
  },
  {
   "cell_type": "code",
   "execution_count": null,
   "metadata": {
    "colab": {
     "base_uri": "https://localhost:8080/",
     "height": 34
    },
    "id": "k6A_Y3hg2PLn",
    "outputId": "8a36afd9-52f2-4d4e-fdc6-5ca931ad372e"
   },
   "outputs": [
    {
     "name": "stdout",
     "output_type": "stream",
     "text": [
      "Mounted at /content/drive\n"
     ]
    }
   ],
   "source": [
    "from google.colab import drive\n",
    "drive.mount('/content/drive')"
   ]
  },
  {
   "cell_type": "markdown",
   "metadata": {
    "id": "SaK_ulDK9y0W"
   },
   "source": [
    "Next create a folder named `ire-major-project` in Google Drive."
   ]
  },
  {
   "cell_type": "code",
   "execution_count": null,
   "metadata": {
    "id": "qfrGUFm925b3"
   },
   "outputs": [],
   "source": [
    "destn_path = '/content/drive/My Drive/ire-major-project'"
   ]
  },
  {
   "cell_type": "code",
   "execution_count": null,
   "metadata": {
    "id": "4RQ9C4oU3R5g"
   },
   "outputs": [],
   "source": [
    "!wget https://zenodo.org/record/1489920/files/article.xsd\n",
    "!wget https://zenodo.org/record/1489920/files/articles-training-byarticle-20181122.zip\n",
    "!wget https://zenodo.org/record/1489920/files/articles-training-bypublisher-20181122.zip\n",
    "!wget https://zenodo.org/record/1489920/files/articles-validation-bypublisher-20181122.zip\n",
    "!wget https://zenodo.org/record/1489920/files/ground-truth-training-byarticle-20181122.zip\n",
    "!wget https://zenodo.org/record/1489920/files/ground-truth-training-bypublisher-20181122.zip\n",
    "!wget https://zenodo.org/record/1489920/files/ground-truth-validation-bypublisher-20181122.zip\n",
    "!wget https://zenodo.org/record/1489920/files/ground-truth.xsd"
   ]
  },
  {
   "cell_type": "code",
   "execution_count": null,
   "metadata": {
    "id": "2z1yd4al3gEV"
   },
   "outputs": [],
   "source": [
    "!cp article.xsd '/content/drive/My Drive/ire-major-project'\n",
    "\n",
    "!unzip articles-training-byarticle-20181122.zip\n",
    "!cp articles-training-byarticle-20181122.xml '/content/drive/My Drive/ire-major-project'\n",
    "\n",
    "!unzip articles-training-bypublisher-20181122.zip\n",
    "!cp articles-training-bypublisher-20181122.xml '/content/drive/My Drive/ire-major-project'\n",
    "\n",
    "!unzip articles-validation-bypublisher-20181122.zip\n",
    "!cp articles-validation-bypublisher-20181122.xml '/content/drive/My Drive/ire-major-project'\n",
    "\n",
    "!unzip ground-truth-training-byarticle-20181122.zip\n",
    "!cp ground-truth-training-byarticle-20181122.xml '/content/drive/My Drive/ire-major-project'\n",
    "\n",
    "!unzip ground-truth-training-bypublisher-20181122.zip\n",
    "!cp ground-truth-training-bypublisher-20181122.xml '/content/drive/My Drive/ire-major-project'\n",
    "\n",
    "!unzip ground-truth-validation-bypublisher-20181122.zip\n",
    "!cp ground-truth-validation-bypublisher-20181122.xml '/content/drive/My Drive/ire-major-project'\n",
    "\n",
    "!cp ground-truth.xsd '/content/drive/My Drive/ire-major-project'"
   ]
  }
 ],
 "metadata": {
  "colab": {
   "name": "download dataset.ipynb",
   "provenance": []
  },
  "kernelspec": {
   "display_name": "Python 3",
   "language": "python",
   "name": "python3"
  },
  "language_info": {
   "codemirror_mode": {
    "name": "ipython",
    "version": 3
   },
   "file_extension": ".py",
   "mimetype": "text/x-python",
   "name": "python",
   "nbconvert_exporter": "python",
   "pygments_lexer": "ipython3",
   "version": "3.7.4"
  }
 },
 "nbformat": 4,
 "nbformat_minor": 1
}
